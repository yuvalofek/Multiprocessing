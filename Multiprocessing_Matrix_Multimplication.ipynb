{
  "nbformat": 4,
  "nbformat_minor": 0,
  "metadata": {
    "colab": {
      "name": "Multiprocessing Matrix Multimplication.ipynb",
      "provenance": [],
      "collapsed_sections": [],
      "toc_visible": true,
      "authorship_tag": "ABX9TyOZdmILPlBSbKeuL8/qtF5n",
      "include_colab_link": true
    },
    "kernelspec": {
      "name": "python3",
      "display_name": "Python 3"
    },
    "language_info": {
      "name": "python"
    }
  },
  "cells": [
    {
      "cell_type": "markdown",
      "metadata": {
        "id": "view-in-github",
        "colab_type": "text"
      },
      "source": [
        "<a href=\"https://colab.research.google.com/github/yuvalofek/Multiprocessing/blob/main/Multiprocessing_Matrix_Multimplication.ipynb\" target=\"_parent\"><img src=\"https://colab.research.google.com/assets/colab-badge.svg\" alt=\"Open In Colab\"/></a>"
      ]
    },
    {
      "cell_type": "markdown",
      "metadata": {
        "id": "WGRJMXhT09Fm"
      },
      "source": [
        "# Multiprocessing for Matrix Multiplication\n",
        "\n",
        "An investigation of multi and single core multiprocessing using concurrent futures ThreadPoolExecuter, ProcessPoolExecutor, as well as the threading  and multiprocessing libraries. \n",
        "\n",
        "\n",
        "The plan is to create functions using each one of the above tools, potentially using the same tool multiple times in different ways, and testing to see which ends up being faster. \n"
      ]
    },
    {
      "cell_type": "code",
      "metadata": {
        "id": "rmluxmGUrjHT"
      },
      "source": [
        "import concurrent.futures as cp\n",
        "import threading\n",
        "import multiprocessing\n",
        "\n",
        "import random\n",
        "import numpy as np\n",
        "import time\n",
        "\n",
        "from pprint import pprint\n",
        "from collections import defaultdict\n",
        "from tqdm import tqdm"
      ],
      "execution_count": 172,
      "outputs": []
    },
    {
      "cell_type": "markdown",
      "metadata": {
        "id": "ZUaevOUc52Xw"
      },
      "source": [
        "## Dot Product:\n",
        "The first idea I had was to try to first do dot products, and then build them up into matrix multiplication. \n",
        "\n",
        "A traditional dot product is:\n",
        "\\begin{equation}\n",
        "  \\text{dot}(x,y) = y^Tx\n",
        "\\end{equation}\n",
        "\n",
        "Or:\n",
        "\n",
        "\\begin{equation}\n",
        "  \\text{dot}(x,y) = \\sum _{i=0}^N{x_iy_i^T}\n",
        "\\end{equation}\n",
        "\n",
        "I create a function:\n",
        "\\begin{equation}\n",
        "  \\mathsf{F}(x, y^T) \\rightarrow dot(x,y)\n",
        "\\end{equation}\n"
      ]
    },
    {
      "cell_type": "markdown",
      "metadata": {
        "id": "bQAbYX4phlbl"
      },
      "source": [
        "### Functions created\n",
        "I ended up creating a number of versions of the dot product function, mainly under these following umbrellas:\n",
        "* Using only standard python, to use as a baseline\n",
        "* Using concurrent.futures ThreadPoolExecuter\n",
        "* Using concurrent.futures ProcessPoolExecuter\n",
        "* Using Threading Thread\n",
        "* Using Multiprocessing Pool"
      ]
    },
    {
      "cell_type": "code",
      "metadata": {
        "id": "a3qhq-1cjG4y"
      },
      "source": [
        "dot_product_functions = {}"
      ],
      "execution_count": 173,
      "outputs": []
    },
    {
      "cell_type": "markdown",
      "metadata": {
        "id": "EGRMXh1gou_o"
      },
      "source": [
        "#### Pure Python"
      ]
    },
    {
      "cell_type": "code",
      "metadata": {
        "id": "Zk1Sp7nS8zy8"
      },
      "source": [
        "def dot_prod_nothing(x,y, nothing=None):\n",
        "  \"\"\"\n",
        "  Dot product of two vectors (without transpose) using Python\n",
        "  params:\n",
        "  x, y - vectors of same length\n",
        "  nothing - (unused)\n",
        "  \"\"\"\n",
        "  # check that the vector sizes are the same\n",
        "  if len(x) != len(y):\n",
        "    raise ValueError(f'Length of vectors {x} & {y} is not equal')\n",
        "  \n",
        "  # thread the multiplications and add sequentially\n",
        "  ip = 0\n",
        "  for i in range(len(x)):\n",
        "    ip += x[i]*y[i]\n",
        "  return ip\n",
        "\n",
        "dot_product_functions['Python'] = dot_prod_nothing"
      ],
      "execution_count": 174,
      "outputs": []
    },
    {
      "cell_type": "code",
      "metadata": {
        "id": "ixXO_dgKotEk"
      },
      "source": [
        "def mult(x,y):\n",
        "  return x*y"
      ],
      "execution_count": 175,
      "outputs": []
    },
    {
      "cell_type": "markdown",
      "metadata": {
        "id": "a10-3F0mo2tJ"
      },
      "source": [
        "#### Concurrent.futures"
      ]
    },
    {
      "cell_type": "code",
      "metadata": {
        "id": "TGaPLCMXrmiP"
      },
      "source": [
        "def dot_prod_map_th(x,y, max_workers=None):\n",
        "  \"\"\"\n",
        "  Dot product of two vectors (without transpose) using ThreadPoolExecutor and map\n",
        "  params:\n",
        "  x, y - vectors of same length\n",
        "  max_workers - maximum workers\n",
        "  \"\"\"\n",
        "  # check that the vector sizes are the same\n",
        "  if len(x) != len(y):\n",
        "    raise ValueError(f'Length of vectors {x} & {y} is not equal')\n",
        "  \n",
        "  ip = 0\n",
        "  with cp.ThreadPoolExecutor(max_workers=max_workers) as ex:\n",
        "    r = ex.map(mult, x, y)\n",
        "    for l in r:\n",
        "      ip+=l\n",
        "  return ip\n",
        "\n",
        "dot_product_functions['ThreadPool_map'] = dot_prod_map_th"
      ],
      "execution_count": 176,
      "outputs": []
    },
    {
      "cell_type": "code",
      "metadata": {
        "id": "5Stjge_vkBz-"
      },
      "source": [
        "def dot_prod_map_mult(x,y, max_workers=None):\n",
        "  \"\"\"\n",
        "  Dot product of two vectors (without transpose) using ProcessPoolExecutor and map\n",
        "  params:\n",
        "  x, y - vectors of same length\n",
        "  max_workers - maximum workers\n",
        "  \"\"\"\n",
        "  # check that the vector sizes are the same\n",
        "  if len(x) != len(y):\n",
        "    raise ValueError(f'Length of vectors {x} & {y} is not equal')\n",
        "  \n",
        "  ip = 0\n",
        "  with cp.ProcessPoolExecutor(max_workers=max_workers) as ex:\n",
        "    r = ex.map(mult, x, y)\n",
        "    for l in r:\n",
        "      ip+=l\n",
        "  return ip\n",
        "\n",
        "dot_product_functions['ProcessPool_map'] = dot_prod_map_mult"
      ],
      "execution_count": 177,
      "outputs": []
    },
    {
      "cell_type": "code",
      "metadata": {
        "id": "GSwMshwmyFNV"
      },
      "source": [
        "def dot_prod_sub_th(x,y, max_workers=None):\n",
        "  \"\"\"\n",
        "  Dot product of two vectors (without transpose) using ThreadPoolExecutor and submit\n",
        "  params:\n",
        "  x, y - vectors of same length\n",
        "  max_workers - maximum workers\n",
        "  \"\"\"\n",
        "  # check that the vector sizes are the same\n",
        "  if len(x) != len(y):\n",
        "    raise ValueError(f'Length of vectors {x} & {y} is not equal')\n",
        "  \n",
        "  # thread the multiplications and add sequentially\n",
        "  ip = 0\n",
        "  with cp.ThreadPoolExecutor(max_workers=max_workers) as ex:\n",
        "    for i in range(len(x)):      \n",
        "      ip+= ex.submit(mult, x[i], y[i]).result()\n",
        "  return ip\n",
        "\n",
        "dot_product_functions['ThreadPool_submit'] = dot_prod_sub_th"
      ],
      "execution_count": 178,
      "outputs": []
    },
    {
      "cell_type": "code",
      "metadata": {
        "id": "Zyr7gRIwkK3P"
      },
      "source": [
        "def dot_prod_sub_mult(x,y, max_workers=None):\n",
        "  \"\"\"\n",
        "  Dot product of two vectors (without transpose) using ProcessPoolExecutor and submit\n",
        "  params:\n",
        "  x, y - vectors of same length\n",
        "  max_workers - maximum workers\n",
        "  \"\"\"\n",
        "  # check that the vector sizes are the same\n",
        "  if len(x) != len(y):\n",
        "    raise ValueError(f'Length of vectors {x} & {y} is not equal')\n",
        "  \n",
        "  ip = 0\n",
        "  with cp.ProcessPoolExecutor(max_workers=max_workers) as ex:\n",
        "    for i in range(len(x)):      \n",
        "      ip+= ex.submit(mult, x[i], y[i]).result()\n",
        "  return ip\n",
        "\n",
        "dot_product_functions['ProcessPool_submit'] = dot_prod_sub_mult"
      ],
      "execution_count": 179,
      "outputs": []
    },
    {
      "cell_type": "code",
      "metadata": {
        "id": "SPsf__DXPWZO"
      },
      "source": [
        "# dot product with execute instead\n",
        "def dot_prod_ac(x,y, max_workers=None):\n",
        "\n",
        "  \"\"\"\n",
        "  Dot product of two vectors (without transpose) using ThreadPoolExecutor, submit, and as_completed\n",
        "  params:\n",
        "  x, y - vectors of same length\n",
        "  max_workers - maximum workers\n",
        "  \"\"\"\n",
        "  # check that the vector sizes are the same\n",
        "  if len(x) != len(y):\n",
        "    raise ValueError(f'Length of vectors {x} & {y} is not equal')\n",
        "  \n",
        "  # thread the multiplications and add sequentially\n",
        "  ip = 0\n",
        "  with cp.ThreadPoolExecutor(max_workers=max_workers) as ex:\n",
        "      mults = [ex.submit(mult, x[i], y[i]) for i in range(len(x))]\n",
        "  for multiples in cp.as_completed(mults):\n",
        "    ip+=multiples.result()\n",
        "  return ip\n",
        "\n",
        "dot_product_functions['ThreadPool_submit_ac'] = dot_prod_ac"
      ],
      "execution_count": 180,
      "outputs": []
    },
    {
      "cell_type": "code",
      "metadata": {
        "id": "_T6USGKakUnc"
      },
      "source": [
        "# dot product with execute instead\n",
        "def dot_prod_ac_mult(x,y, max_workers=None):\n",
        "  \"\"\"\n",
        "  Dot product of two vectors (without transpose)using ProcessdPoolExecutor, submit, and as_completed\n",
        "  params:\n",
        "  x, y - vectors of same length\n",
        "  max_workers - maximum workers\n",
        "  \"\"\"\n",
        "  # check that the vector sizes are the same\n",
        "  if len(x) != len(y):\n",
        "    raise ValueError(f'Length of vectors {x} & {y} is not equal')\n",
        "  \n",
        "  ip = 0\n",
        "  with cp.ProcessPoolExecutor(max_workers=max_workers) as ex:\n",
        "      mults = [ex.submit(mult, x[i], y[i]) for i in range(len(x))]\n",
        "  for multiples in cp.as_completed(mults):\n",
        "    ip+=multiples.result()\n",
        "  return ip\n",
        "\n",
        "dot_product_functions['ProcessPool_submit_ac'] = dot_prod_ac_mult"
      ],
      "execution_count": 181,
      "outputs": []
    },
    {
      "cell_type": "markdown",
      "metadata": {
        "id": "PGGe2T-nqbKc"
      },
      "source": [
        "#### Threading Library"
      ]
    },
    {
      "cell_type": "code",
      "metadata": {
        "id": "SsGRL6HH1wYX"
      },
      "source": [
        "# threading only\n",
        "def dot_prod_thread(x,y, max_workers=None):\n",
        "  \"\"\"\n",
        "  Dot product of two vectors (without transpose) using the threading Thread\n",
        "  params:\n",
        "  x, y - vectors of same length\n",
        "  max_workers - maximum workers for threading (unused)\n",
        "  \"\"\"\n",
        "  # check that the vector sizes are the same\n",
        "  if len(x) != len(y):\n",
        "    raise ValueError(f'Length of vectors {x} & {y} is not equal')\n",
        "  \n",
        "  # thread the multiplications and add sequentially\n",
        "  ip = 0\n",
        "  threads = []\n",
        "  results = []\n",
        "  for i in range(len(x)):\n",
        "    t = threading.Thread(target=mult_r, args = (x[i],y[i], results))\n",
        "    t.start()\n",
        "    threads.append(t)\n",
        "  \n",
        "  for t in threads:\n",
        "    t.join()\n",
        "  for r in results:\n",
        "    ip+= r\n",
        "  return ip\n",
        "\n",
        "def mult_r(x,y, results):\n",
        "  results.append(x*y)\n",
        "\n",
        "\n",
        "dot_product_functions['Threading_threads'] = dot_prod_thread"
      ],
      "execution_count": 182,
      "outputs": []
    },
    {
      "cell_type": "markdown",
      "metadata": {
        "id": "raGtCF9DqW2_"
      },
      "source": [
        "#### Multiprocessing Library"
      ]
    },
    {
      "cell_type": "code",
      "metadata": {
        "id": "IJRnWOpnqg1A"
      },
      "source": [
        "def dot_prod_multiprocess_apply(x,y, max_workers=None):\n",
        "  \"\"\"\n",
        "  Dot product of two vectors (without transpose) using the Pool apply\n",
        "  params:\n",
        "  x, y - vectors of same length\n",
        "  max_workers - maximum workers for threading (unused)\n",
        "  \"\"\"\n",
        "  # check that the vector sizes are the same\n",
        "  if len(x) != len(y):\n",
        "    raise ValueError(f'Length of vectors {x} & {y} is not equal')\n",
        "  \n",
        "  # thread the multiplications and add sequentially\n",
        "  ip = 0\n",
        "  r = []\n",
        "  with multiprocessing.Pool() as p:\n",
        "    for i in range(len(x)):\n",
        "      r.append(p.apply(mult, (x[i], y[i])))\n",
        "    for l in r:\n",
        "      ip+=l\n",
        "\n",
        "  return ip\n",
        "\n",
        "dot_product_functions['Multiprocessing_lib_apply'] = dot_prod_multiprocess_apply"
      ],
      "execution_count": 183,
      "outputs": []
    },
    {
      "cell_type": "code",
      "metadata": {
        "id": "IpLY19q3k69T"
      },
      "source": [
        "def dot_prod_multiprocess_apply_async(x,y, max_workers=None):\n",
        "  \"\"\"\n",
        "  Dot product of two vectors (without transpose) using the Pool apply_async\n",
        "  params:\n",
        "  x, y - vectors of same length\n",
        "  max_workers - maximum workers for threading (unused)\n",
        "  \"\"\"\n",
        "  # check that the vector sizes are the same\n",
        "  if len(x) != len(y):\n",
        "    raise ValueError(f'Length of vectors {x} & {y} is not equal')\n",
        "  \n",
        "  # thread the multiplications and add sequentially\n",
        "  ip = 0\n",
        "  r = []\n",
        "  with multiprocessing.Pool() as p:\n",
        "    for i in range(len(x)):\n",
        "      r.append(p.apply_async(mult, (x[i], y[i])).get())\n",
        "    for l in r:\n",
        "      ip+=l\n",
        "\n",
        "  return ip\n",
        "\n",
        "dot_product_functions['Multiprocessing_lib_apply_async'] = dot_prod_multiprocess_apply_async"
      ],
      "execution_count": 184,
      "outputs": []
    },
    {
      "cell_type": "code",
      "metadata": {
        "id": "kErvxXtbqvHU"
      },
      "source": [
        "def dot_prod_multiprocess_starmap(x,y, max_workers=None):\n",
        "  \"\"\"\n",
        "  Dot product of two vectors (without transpose) using the Pool starmap\n",
        "  params:\n",
        "  x, y - vectors of same length\n",
        "  max_workers - maximum workers for threading (unused)\n",
        "  \"\"\"\n",
        "  # check that the vector sizes are the same\n",
        "  if len(x) != len(y):\n",
        "    raise ValueError(f'Length of vectors {x} & {y} is not equal')\n",
        "  \n",
        "  # thread the multiplications and add sequentially\n",
        "  ip = 0\n",
        "  with multiprocessing.Pool() as p:\n",
        "    r = p.starmap(mult, zip(x, y))\n",
        "    for l in r:\n",
        "      ip+=l\n",
        "  return ip\n",
        "\n",
        "\n",
        "dot_product_functions['Multiprocessing_lib_starmap'] = dot_prod_multiprocess_starmap"
      ],
      "execution_count": 185,
      "outputs": []
    },
    {
      "cell_type": "code",
      "metadata": {
        "id": "F3OG3ycTr2B1"
      },
      "source": [
        "def dot_prod_multiprocess_starmap_async(x,y, max_workers=None):\n",
        "  \"\"\"\n",
        "  Dot product of two vectors (without transpose) using the Pool starmap_async\n",
        "  params:\n",
        "  x, y - vectors of same length\n",
        "  max_workers - maximum workers for threading (unused)\n",
        "  \"\"\"\n",
        "  # check that the vector sizes are the same\n",
        "  if len(x) != len(y):\n",
        "    raise ValueError(f'Length of vectors {x} & {y} is not equal')\n",
        "  \n",
        "  # thread the multiplications and add sequentially\n",
        "  ip = 0\n",
        "  with multiprocessing.Pool() as p:\n",
        "    r = p.starmap_async(mult, zip(x, y))\n",
        "    for l in r:\n",
        "      ip+=l\n",
        "  return ip\n",
        "\n",
        "\n",
        "dot_product_functions['Multiprocessing_lib_starmap_async'] = dot_prod_multiprocess_starmap"
      ],
      "execution_count": 186,
      "outputs": []
    },
    {
      "cell_type": "markdown",
      "metadata": {
        "id": "YzhqUVg0wKO9"
      },
      "source": [
        "### Testing\n",
        "First we do a small test to see that everything is going well, then we do a stress test with a large input value"
      ]
    },
    {
      "cell_type": "code",
      "metadata": {
        "colab": {
          "base_uri": "https://localhost:8080/"
        },
        "id": "nL5ouNGstSOH",
        "outputId": "a0ae8e25-275b-4250-d8ca-aaedf4067566"
      },
      "source": [
        "# Contrived test case:\n",
        "x = [1,2,3, 4]\n",
        "y = x[::-1]\n",
        "results = {name:dot_product(x,y) for name, dot_product in dot_product_functions.items()}\n",
        "\n",
        "for name, result in results.items():\n",
        "  print(name, ': ', result)\n",
        "\n",
        "# 1*4 + 2*3 + 3*2 +4*1 = 4 + 6 + 6 + 4 = 20"
      ],
      "execution_count": 187,
      "outputs": [
        {
          "output_type": "stream",
          "name": "stdout",
          "text": [
            "Python :  20\n",
            "ThreadPool_map :  20\n",
            "ProcessPool_map :  20\n",
            "ThreadPool_submit :  20\n",
            "ProcessPool_submit :  20\n",
            "ThreadPool_submit_ac :  20\n",
            "ProcessPool_submit_ac :  20\n",
            "Threading_threads :  20\n",
            "Multiprocessing_lib_apply :  20\n",
            "Multiprocessing_lib_apply_async :  20\n",
            "Multiprocessing_lib_starmap :  20\n",
            "Multiprocessing_lib_starmap_async :  20\n"
          ]
        }
      ]
    },
    {
      "cell_type": "code",
      "metadata": {
        "colab": {
          "base_uri": "https://localhost:8080/"
        },
        "id": "7M0Tlxh48t1W",
        "outputId": "095c8db7-47d5-4b31-e74f-e88725b738b2"
      },
      "source": [
        "# Random test case:\n",
        "MAX_SIZE = 100\n",
        "MAX_STDV = 10\n",
        "n = 5000\n",
        "x_stdv, y_stdv = random.randint(1,MAX_STDV), random.randint(1,MAX_STDV)\n",
        "x = (x_stdv*np.random.randn(n))\n",
        "y = (y_stdv*np.random.randn(n))\n",
        "print(f'Vector size: {n}')\n",
        "\n",
        "results = defaultdict(list)\n",
        "durations = defaultdict(list)\n",
        "mx_workers = [None]\n",
        "mx_workers.extend(range(1, 10))\n",
        "for i in tqdm(mx_workers):  \n",
        "  for name, dot_prod in dot_product_functions.items():\n",
        "    start_time = time.time()\n",
        "    results[name].append(dot_prod(x,y, i))\n",
        "    durations[name].append(time.time() - start_time)\n",
        "\n",
        "## Numpy for comparison\n",
        "start_time = time.time()\n",
        "results['numpy'] = [np.dot(x,y)]\n",
        "durations['numpy'].append(time.time() - start_time)\n",
        "\n",
        "\n",
        "\n",
        "print('')\n",
        "print('Average Results')\n",
        "for name, result in results.items():\n",
        "  print(name, ': ', sum(result)/len(result))\n",
        "\n",
        "print('')\n",
        "print('Average Duration')\n",
        "for name, duration in durations.items():\n",
        "  print(name, ': ', sum(duration)/len(duration))\n"
      ],
      "execution_count": 189,
      "outputs": [
        {
          "output_type": "stream",
          "name": "stdout",
          "text": [
            "Vector size: 5000\n"
          ]
        },
        {
          "output_type": "stream",
          "name": "stderr",
          "text": [
            "100%|██████████| 10/10 [02:04<00:00, 12.49s/it]"
          ]
        },
        {
          "output_type": "stream",
          "name": "stdout",
          "text": [
            "\n",
            "Average Results\n",
            "Python :  -44.219752776722835\n",
            "ThreadPool_map :  -44.219752776722835\n",
            "ProcessPool_map :  -44.219752776722835\n",
            "ThreadPool_submit :  -44.219752776722835\n",
            "ProcessPool_submit :  -44.219752776722835\n",
            "ThreadPool_submit_ac :  -44.21975277672318\n",
            "ProcessPool_submit_ac :  -44.21975277672312\n",
            "Threading_threads :  -44.219752776722835\n",
            "Multiprocessing_lib_apply :  -44.219752776722835\n",
            "Multiprocessing_lib_apply_async :  -44.219752776722835\n",
            "Multiprocessing_lib_starmap :  -44.219752776722835\n",
            "Multiprocessing_lib_starmap_async :  -44.219752776722835\n",
            "numpy :  -44.219752776723446\n",
            "\n",
            "Average Duration\n",
            "Python :  0.004215073585510254\n",
            "ThreadPool_map :  0.19429244995117187\n",
            "ProcessPool_map :  2.314366412162781\n",
            "ThreadPool_submit :  0.2800591468811035\n",
            "ProcessPool_submit :  3.242601180076599\n",
            "ThreadPool_submit_ac :  0.22586772441864014\n",
            "ProcessPool_submit_ac :  2.19613721370697\n",
            "Threading_threads :  0.6056812763214111\n",
            "Multiprocessing_lib_apply :  1.551779580116272\n",
            "Multiprocessing_lib_apply_async :  1.54132080078125\n",
            "Multiprocessing_lib_starmap :  0.1758117914199829\n",
            "Multiprocessing_lib_starmap_async :  0.1560722827911377\n",
            "numpy :  0.0002803802490234375\n"
          ]
        },
        {
          "output_type": "stream",
          "name": "stderr",
          "text": [
            "\n"
          ]
        }
      ]
    },
    {
      "cell_type": "markdown",
      "metadata": {
        "id": "tXZMGwlT66Zy"
      },
      "source": [
        "### Conclusions:\n",
        "Given the strain test test, we see that using Multiprocessing starmap was the fastest out of the multiprocessing options, but that using nothing at all was (significantly) faster (and numpy is of course even faster than that)! We opt to use the python version because of this for the matrix multiplication.\n",
        "\n",
        "This is likely telling us that multiprocessing multiplication like this is not benefitial, maybe because of the additional calls and overhead costs.\n",
        "\n",
        "Another interesting thing we see is that the as_completed inner product doesn't match the other inner_products exactly.  "
      ]
    },
    {
      "cell_type": "markdown",
      "metadata": {
        "id": "Zz62ncRX7VHQ"
      },
      "source": [
        "## Matrix multiplication"
      ]
    },
    {
      "cell_type": "markdown",
      "metadata": {
        "id": "dvKs3rx50gwl"
      },
      "source": [
        "Matrix multiplication is of the form:\n",
        "\\begin{equation}\n",
        "  \\mathsf{M}_{n \\text{x} m}(\\mathbb{R}) * \\mathsf{M}_{m \\text{x} l}(\\mathbb{R}) \\rightarrow \\mathsf{M}_{n \\text{x} l}(\\mathbb{R})\n",
        "\\end{equation}\n",
        "\n",
        "Therefore we do:\n",
        "1. Check that the inputs are matrices\n",
        "2. Check that the inner matrix dimenstions $m$ match for the two matrices\n",
        "3. Preform matrix multiplication"
      ]
    },
    {
      "cell_type": "markdown",
      "metadata": {
        "id": "AHXB9KwM0uiJ"
      },
      "source": [
        "We use the 'normal' python version as our 'inner product component' in the following functions and only consider creating functions for the top 5 performing methods from the inner product functions:\n",
        "1. ThreadPool Map\n",
        "2. ThreadPool Submit\n",
        "3. ThreadPool Submit as_completed\n",
        "4. Multiprocessing Starmap\n",
        "5. Multiprocessing Starmap_async\n",
        "\n",
        "We don't create the submit as_completed function. This is due to the need to know which inner product belongs where, which isn't suitable for the as_completed method"
      ]
    },
    {
      "cell_type": "code",
      "metadata": {
        "id": "ygg2fTDD0f_c"
      },
      "source": [
        "def is_matrix(X):\n",
        "  ## Check if the input is a matrix\n",
        "  lengths = map(len, X)\n",
        "  try:\n",
        "    # first length\n",
        "    first = next(lengths)\n",
        "  except StopIteration:\n",
        "    return True\n",
        "  return all(first == x for x in lengths)"
      ],
      "execution_count": 203,
      "outputs": []
    },
    {
      "cell_type": "code",
      "metadata": {
        "colab": {
          "base_uri": "https://localhost:8080/"
        },
        "id": "ppkZ5YRE1giy",
        "outputId": "60d0a825-08cf-4dc3-ad32-d4c0074352bd"
      },
      "source": [
        "# Testing the is_matrix funciton:\n",
        "is_matrix([[1, 2], [3], [1,3]]) # False"
      ],
      "execution_count": 204,
      "outputs": [
        {
          "output_type": "execute_result",
          "data": {
            "text/plain": [
              "False"
            ]
          },
          "metadata": {},
          "execution_count": 204
        }
      ]
    },
    {
      "cell_type": "code",
      "metadata": {
        "id": "V097-xLex3np"
      },
      "source": [
        "mat_mul_functions = {}"
      ],
      "execution_count": 262,
      "outputs": []
    },
    {
      "cell_type": "code",
      "metadata": {
        "id": "oUP_GiUC_AK5"
      },
      "source": [
        "def mat_mul_nothing(X, Y):\n",
        "  # check that the inputs are valid matrices\n",
        "  if not is_matrix(X):\n",
        "    raise ValueError(f'Input {X} is not a matrix')\n",
        "  if not is_matrix(Y):\n",
        "    raise ValueError(f'Input {Y} is not a matrix')\n",
        "  \n",
        "  # check that the dimensions of the matrices are valid for multiplication\n",
        "  # and save lengths\n",
        "  n, m, l = len(X), len(X[0]), len(Y[0])\n",
        "  if m != len(Y):\n",
        "    raise ValueError('Dimensions of X and Y do not match')\n",
        "\n",
        "  # thread each of the inner products\n",
        "  output = [[0 for j in range(l)] for i in range(n) ]\n",
        "  for i in range(n):\n",
        "    for j in range(l):\n",
        "      x =  X[i]\n",
        "      y = [row[j] for row in Y]    \n",
        "      output[i][j] = dot_prod_nothing(x, y)\n",
        "        \n",
        "  return output\n",
        "\n",
        "mat_mul_functions['Python'] = mat_mul_nothing"
      ],
      "execution_count": 263,
      "outputs": []
    },
    {
      "cell_type": "code",
      "metadata": {
        "colab": {
          "base_uri": "https://localhost:8080/"
        },
        "id": "EEo3LK6S4-Z8",
        "outputId": "5f197991-145d-4e63-8cfb-e3f843da8fab"
      },
      "source": [
        "# Checking the list transpose we found here: https://stackoverflow.com/questions/6473679/transpose-list-of-lists\n",
        "np.array(list(map(list, zip(*Y)))) == np.array(Y).T"
      ],
      "execution_count": 264,
      "outputs": [
        {
          "output_type": "execute_result",
          "data": {
            "text/plain": [
              "array([[ True,  True,  True,  True,  True,  True,  True,  True,  True,\n",
              "         True],\n",
              "       [ True,  True,  True,  True,  True,  True,  True,  True,  True,\n",
              "         True],\n",
              "       [ True,  True,  True,  True,  True,  True,  True,  True,  True,\n",
              "         True],\n",
              "       [ True,  True,  True,  True,  True,  True,  True,  True,  True,\n",
              "         True],\n",
              "       [ True,  True,  True,  True,  True,  True,  True,  True,  True,\n",
              "         True],\n",
              "       [ True,  True,  True,  True,  True,  True,  True,  True,  True,\n",
              "         True],\n",
              "       [ True,  True,  True,  True,  True,  True,  True,  True,  True,\n",
              "         True],\n",
              "       [ True,  True,  True,  True,  True,  True,  True,  True,  True,\n",
              "         True],\n",
              "       [ True,  True,  True,  True,  True,  True,  True,  True,  True,\n",
              "         True],\n",
              "       [ True,  True,  True,  True,  True,  True,  True,  True,  True,\n",
              "         True]])"
            ]
          },
          "metadata": {},
          "execution_count": 264
        }
      ]
    },
    {
      "cell_type": "code",
      "metadata": {
        "id": "60HS8p9ht8Xc"
      },
      "source": [
        "def mat_mul_submit(X, Y, max_workers=None):\n",
        "  # check that the inputs are valid matrices\n",
        "  if not is_matrix(X):\n",
        "    raise ValueError(f'Input X is not a matrix')\n",
        "  if not is_matrix(Y):\n",
        "    raise ValueError(f'Input Y is not a matrix')\n",
        "  \n",
        "  # check that the dimensions of the matrices are valid for multiplication\n",
        "  n, m, l = len(X), len(X[0]), len(Y[0])\n",
        "  if m != len(Y):\n",
        "    raise ValueError('Dimensions of X and Y do not match')\n",
        "\n",
        "  # thread each of the inner products\n",
        "  output = [[0 for j in range(l)] for i in range(n) ]\n",
        "  with cp.ThreadPoolExecutor(max_workers=max_workers) as ex:\n",
        "    for i in range(n):\n",
        "      for j in range(l):\n",
        "        x =  X[i]\n",
        "        y = [row[j] for row in Y]    \n",
        "        output[i][j] = ex.submit(dot_prod_nothing, x, y).result()\n",
        "  return output\n",
        "\n",
        "mat_mul_functions['ThreadPool_submit'] = mat_mul_submit"
      ],
      "execution_count": 265,
      "outputs": []
    },
    {
      "cell_type": "code",
      "metadata": {
        "id": "alImT9cN4wIW"
      },
      "source": [
        "def mat_mul_map(X, Y, max_workers=None):\n",
        "  # check that the inputs are valid matrices\n",
        "  if not is_matrix(X):\n",
        "    raise ValueError(f'Input X is not a matrix')\n",
        "  if not is_matrix(Y):\n",
        "    raise ValueError(f'Input Y is not a matrix')\n",
        "  \n",
        "  # check that the dimensions of the matrices are valid for multiplication\n",
        "  n, m, l = len(X), len(X[0]), len(Y[0])\n",
        "  if m != len(Y):\n",
        "    raise ValueError('Dimensions of X and Y do not match')\n",
        "\n",
        "  output = [[] for i in range(n) ]\n",
        "  # thread each of the inner products\n",
        "  Y = list(map(list, zip(*Y)))\n",
        "  with cp.ThreadPoolExecutor(max_workers=max_workers) as ex:\n",
        "    for i in range(n):\n",
        "      output[i] = list(ex.map(dot_prod_nothing, [X[i]]*n, Y))\n",
        "  return output\n",
        "\n",
        "mat_mul_functions['ThreadPool_map'] = mat_mul_map"
      ],
      "execution_count": 266,
      "outputs": []
    },
    {
      "cell_type": "code",
      "metadata": {
        "id": "y5ce6NiM69u3"
      },
      "source": [
        "def mat_mul_multi_starmap(X, Y, max_workers=None):\n",
        "  # check that the inputs are valid matrices\n",
        "  if not is_matrix(X):\n",
        "    raise ValueError(f'Input X is not a matrix')\n",
        "  if not is_matrix(Y):\n",
        "    raise ValueError(f'Input Y is not a matrix')\n",
        "  \n",
        "  # check that the dimensions of the matrices are valid for multiplication\n",
        "  n, m, l = len(X), len(X[0]), len(Y[0])\n",
        "  if m != len(Y):\n",
        "    raise ValueError('Dimensions of X and Y do not match')\n",
        "\n",
        "  output = [[] for i in range(n) ]\n",
        "  # thread each of the inner products\n",
        "  Y = list(map(list, zip(*Y)))\n",
        "  with multiprocessing.Pool() as p:\n",
        "    for i in range(n):\n",
        "      output[i] = list(p.starmap(dot_prod_nothing, zip([X[i]]*n, Y)))\n",
        "  return output\n",
        "\n",
        "mat_mul_functions['Multiprocessing_starmap'] = mat_mul_multi_starmap"
      ],
      "execution_count": 267,
      "outputs": []
    },
    {
      "cell_type": "code",
      "metadata": {
        "id": "1YAQfpwh7XQa"
      },
      "source": [
        "def mat_mul_multi_starmap_async(X, Y, max_workers=None):\n",
        "  # check that the inputs are valid matrices\n",
        "  if not is_matrix(X):\n",
        "    raise ValueError(f'Input X is not a matrix')\n",
        "  if not is_matrix(Y):\n",
        "    raise ValueError(f'Input Y is not a matrix')\n",
        "  \n",
        "  # check that the dimensions of the matrices are valid for multiplication\n",
        "  n, m, l = len(X), len(X[0]), len(Y[0])\n",
        "  if m != len(Y):\n",
        "    raise ValueError('Dimensions of X and Y do not match')\n",
        "\n",
        "  output = [[] for i in range(n) ]\n",
        "  # thread each of the inner products\n",
        "  Y = list(map(list, zip(*Y)))\n",
        "  with multiprocessing.Pool() as p:\n",
        "    for i in range(n):\n",
        "      output[i] = p.starmap_async(dot_prod_nothing, zip([X[i]]*n, Y)).get()\n",
        "  return output\n",
        "\n",
        "mat_mul_functions['Multiprocessing_starmap_async'] = mat_mul_multi_starmap_async"
      ],
      "execution_count": 268,
      "outputs": []
    },
    {
      "cell_type": "code",
      "metadata": {
        "colab": {
          "base_uri": "https://localhost:8080/"
        },
        "id": "TXptrsohA1hM",
        "outputId": "1070f1b9-b7fc-4ee8-9b54-c8edebb01b49"
      },
      "source": [
        " == True"
      ],
      "execution_count": 297,
      "outputs": [
        {
          "output_type": "execute_result",
          "data": {
            "text/plain": [
              "False"
            ]
          },
          "metadata": {},
          "execution_count": 297
        }
      ]
    },
    {
      "cell_type": "code",
      "metadata": {
        "colab": {
          "base_uri": "https://localhost:8080/"
        },
        "id": "jB6JqTsj2_ll",
        "outputId": "43efedb8-20e4-4549-896d-bc507dee2a37"
      },
      "source": [
        "# Random test case\n",
        "MAX_SIZE = 10\n",
        "MAX_STDV = 10\n",
        "N = 300\n",
        "n, m, l = N, N, N \n",
        "x_stdv, y_stdv = random.randint(1,MAX_STDV), random.randint(1,MAX_STDV)\n",
        "X = (x_stdv*np.random.randn(n, m))\n",
        "Y = (y_stdv*np.random.randn(m, l))\n",
        "\n",
        "X = X.tolist()\n",
        "Y = Y.tolist()\n",
        "\n",
        "\n",
        "\n",
        "\n",
        "results = defaultdict(list)\n",
        "durations = defaultdict(list)\n",
        "mx_workers = [None]\n",
        "mx_workers.extend(range(1, 10))\n",
        "\n",
        "for i in tqdm(mx_workers):\n",
        "  for name, mat_mul in mat_mul_functions.items():\n",
        "    start_time = time.time()\n",
        "    results[name].append(mat_mul(X, Y))\n",
        "    durations[name].append(time.time() - start_time)\n",
        "\n",
        "avg = []\n",
        "print('')\n",
        "check = True\n",
        "old_val = None\n",
        "for name, result in results.items():\n",
        "  mean_result = np.mean(np.stack([np.array(r) for r in result]), axis=0)\n",
        "  try:\n",
        "    old_val == None\n",
        "    old_val =mean_result\n",
        "  except:\n",
        "    check = check & (mean_result == old_val).all()\n",
        "\n",
        "  print(name, mean_result.shape)\n",
        "  print('Result matches previous: ', check)\n",
        "\n",
        "## Numpy for comparison\n",
        "start_time = time.time()\n",
        "results['numpy'] = [np.matmul(X,Y)]\n",
        "durations['numpy'] = [time.time() - start_time]\n",
        "\n",
        "\n",
        "print('')\n",
        "print('Average Duration')\n",
        "for name, duration in durations.items():\n",
        "  print(name, ': ', sum(duration)/len(duration))"
      ],
      "execution_count": 307,
      "outputs": [
        {
          "output_type": "stream",
          "name": "stderr",
          "text": [
            "100%|██████████| 10/10 [07:24<00:00, 44.46s/it]\n"
          ]
        },
        {
          "output_type": "stream",
          "name": "stdout",
          "text": [
            "\n",
            "Python (300, 300)\n",
            "Result matches previous:  True\n",
            "ThreadPool_submit (300, 300)\n",
            "Result matches previous:  True\n",
            "ThreadPool_map (300, 300)\n",
            "Result matches previous:  True\n",
            "Multiprocessing_starmap (300, 300)\n",
            "Result matches previous:  True\n",
            "Multiprocessing_starmap_async (300, 300)\n",
            "Result matches previous:  True\n",
            "\n",
            "Average Duration\n",
            "Python :  5.79459581375122\n",
            "ThreadPool_submit :  18.671090173721314\n",
            "ThreadPool_map :  7.166719651222229\n",
            "Multiprocessing_starmap :  6.4087567806243895\n",
            "Multiprocessing_starmap_async :  6.418905210494995\n",
            "numpy :  0.019414186477661133\n"
          ]
        }
      ]
    },
    {
      "cell_type": "markdown",
      "metadata": {
        "id": "miTkaPtuAM87"
      },
      "source": [
        "### Conclusions:\n",
        "\n",
        "Once again we see that threading didn't help at all and that numpy is the way to go for any matrix multiplication operation. We see how significant the speed-up numpy gives us and how much time we would be waisting if we didn't use it. \n",
        "\n",
        "It makes sense that the python only version was faster than threading looking back, because matrix multiplication involves a bunch of very simple operations and maybe the overhead was too much. "
      ]
    }
  ]
}